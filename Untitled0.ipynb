{
  "nbformat": 4,
  "nbformat_minor": 0,
  "metadata": {
    "colab": {
      "name": "Untitled0.ipynb",
      "provenance": [],
      "authorship_tag": "ABX9TyNDW6LF7ckJAC+56kxIvFtZ",
      "include_colab_link": true
    },
    "kernelspec": {
      "name": "python3",
      "display_name": "Python 3"
    }
  },
  "cells": [
    {
      "cell_type": "markdown",
      "metadata": {
        "id": "view-in-github",
        "colab_type": "text"
      },
      "source": [
        "<a href=\"https://colab.research.google.com/github/19PA1A0291/AI-LAB/blob/master/Untitled0.ipynb\" target=\"_parent\"><img src=\"https://colab.research.google.com/assets/colab-badge.svg\" alt=\"Open In Colab\"/></a>"
      ]
    },
    {
      "cell_type": "code",
      "metadata": {
        "id": "XySYO5zBdLyv",
        "colab_type": "code",
        "colab": {}
      },
      "source": [
        ""
      ],
      "execution_count": null,
      "outputs": []
    },
    {
      "cell_type": "markdown",
      "metadata": {
        "id": "haBOgA68oAjb",
        "colab_type": "text"
      },
      "source": [
        " Experiment 1 1) Different ways to create a Numpy arrays"
      ]
    },
    {
      "cell_type": "code",
      "metadata": {
        "id": "80DeWmPeotST",
        "colab_type": "code",
        "colab": {
          "base_uri": "https://localhost:8080/",
          "height": 51
        },
        "outputId": "f7b06102-8273-4988-ac98-ca906d22a911"
      },
      "source": [
        "import numpy as np\n",
        "p=np.array([[1,2,3],[4,5,6]])\n",
        "print(p)"
      ],
      "execution_count": null,
      "outputs": [
        {
          "output_type": "stream",
          "text": [
            "[[1 2 3]\n",
            " [4 5 6]]\n"
          ],
          "name": "stdout"
        }
      ]
    },
    {
      "cell_type": "markdown",
      "metadata": {
        "id": "9Hl5FJNb53BZ",
        "colab_type": "text"
      },
      "source": [
        " 1 2)ADD,remove,modify array elements add"
      ]
    },
    {
      "cell_type": "code",
      "metadata": {
        "id": "zyuCFeO16Tsj",
        "colab_type": "code",
        "colab": {
          "base_uri": "https://localhost:8080/",
          "height": 34
        },
        "outputId": "fe218bb4-3c6c-474d-ff00-9de9bd0c7302"
      },
      "source": [
        "a=np.array([1,2,3])\n",
        "b=np.append(a,[10,20,30])\n",
        "print(b)"
      ],
      "execution_count": null,
      "outputs": [
        {
          "output_type": "stream",
          "text": [
            "[ 1  2  3 10 20 30]\n"
          ],
          "name": "stdout"
        }
      ]
    },
    {
      "cell_type": "markdown",
      "metadata": {
        "id": "BDZKDKgm6x3s",
        "colab_type": "text"
      },
      "source": [
        " Remove"
      ]
    },
    {
      "cell_type": "code",
      "metadata": {
        "id": "IkuJXK7Pon2D",
        "colab_type": "code",
        "colab": {
          "base_uri": "https://localhost:8080/",
          "height": 34
        },
        "outputId": "6f310350-9815-441d-b31c-ed0de1940f8d"
      },
      "source": [
        "c = np.delete(a,2)\n",
        "print(c)"
      ],
      "execution_count": null,
      "outputs": [
        {
          "output_type": "stream",
          "text": [
            "[1 2]\n"
          ],
          "name": "stdout"
        }
      ]
    },
    {
      "cell_type": "markdown",
      "metadata": {
        "id": "BiDTWlUnDqpu",
        "colab_type": "text"
      },
      "source": [
        "Modify"
      ]
    },
    {
      "cell_type": "code",
      "metadata": {
        "id": "lL9XW6aADstn",
        "colab_type": "code",
        "colab": {
          "base_uri": "https://localhost:8080/",
          "height": 34
        },
        "outputId": "22fab8b8-16e6-4581-e178-d10a559b832a"
      },
      "source": [
        "c[c<5]=-1\n",
        "print(c)"
      ],
      "execution_count": null,
      "outputs": [
        {
          "output_type": "stream",
          "text": [
            "[-1 -1]\n"
          ],
          "name": "stdout"
        }
      ]
    },
    {
      "cell_type": "markdown",
      "metadata": {
        "id": "E-Cd_-SpEUEx",
        "colab_type": "text"
      },
      "source": [
        "1 3) Arithmetic operations on numpy array"
      ]
    },
    {
      "cell_type": "code",
      "metadata": {
        "id": "a9FNxqhkEeOX",
        "colab_type": "code",
        "colab": {
          "base_uri": "https://localhost:8080/",
          "height": 102
        },
        "outputId": "98c77ac6-11e7-446d-8560-dfe251212941"
      },
      "source": [
        "import numpy as np\n",
        "a = ([1,2,3])\n",
        "b = ([4,5,6])\n",
        "num_sum = np.add(1,2)\n",
        "num_diff = np.subtract(1,2)\n",
        "num_quo = np.divide(1,2)\n",
        "num_mod = no.mod(1,2)\n",
        "num_pow = no.power(1,2)\n",
        "print(num_sum)\n",
        "print(num_diff)\n",
        "print(num_quo)\n",
        "print(num_mod)\n",
        "print(num_pow)"
      ],
      "execution_count": null,
      "outputs": [
        {
          "output_type": "stream",
          "text": [
            "3\n",
            "-1\n",
            "0.5\n",
            "1\n",
            "1\n"
          ],
          "name": "stdout"
        }
      ]
    },
    {
      "cell_type": "markdown",
      "metadata": {
        "id": "7C9F7gg-GYPH",
        "colab_type": "text"
      },
      "source": [
        " 1 4) slicing and iterating of numpy arrays"
      ]
    },
    {
      "cell_type": "code",
      "metadata": {
        "id": "hKSNBVsDGm-u",
        "colab_type": "code",
        "colab": {
          "base_uri": "https://localhost:8080/",
          "height": 34
        },
        "outputId": "835c38c6-db82-4b5f-e727-59836df781f4"
      },
      "source": [
        "import numpy as np\n",
        "arr = np.array([1,2,3,4,5,6,7,8,9,10,])\n",
        "print(arr[1:8])"
      ],
      "execution_count": null,
      "outputs": [
        {
          "output_type": "stream",
          "text": [
            "[2 3 4 5 6 7 8]\n"
          ],
          "name": "stdout"
        }
      ]
    },
    {
      "cell_type": "markdown",
      "metadata": {
        "id": "cRdHAUvCHFDo",
        "colab_type": "text"
      },
      "source": [
        " Iterating"
      ]
    },
    {
      "cell_type": "code",
      "metadata": {
        "id": "a5kl3xlpHH29",
        "colab_type": "code",
        "colab": {
          "base_uri": "https://localhost:8080/",
          "height": 187
        },
        "outputId": "949338e7-b0df-491b-bb0e-17b6f0611f8d"
      },
      "source": [
        "for x in arr:\n",
        "  print(x)"
      ],
      "execution_count": null,
      "outputs": [
        {
          "output_type": "stream",
          "text": [
            "1\n",
            "2\n",
            "3\n",
            "4\n",
            "5\n",
            "6\n",
            "7\n",
            "8\n",
            "9\n",
            "10\n"
          ],
          "name": "stdout"
        }
      ]
    },
    {
      "cell_type": "markdown",
      "metadata": {
        "id": "8yvPD6iLHXBZ",
        "colab_type": "text"
      },
      "source": [
        " 1 5) Matrix operations on numpy arrays"
      ]
    },
    {
      "cell_type": "code",
      "metadata": {
        "id": "RpEEuxMvHjaW",
        "colab_type": "code",
        "colab": {
          "base_uri": "https://localhost:8080/",
          "height": 119
        },
        "outputId": "a7f192c5-fe8c-4b72-a89c-b9762e72c6ee"
      },
      "source": [
        "import numpy as np\n",
        "a = np.array([[1,2],[3,4]])\n",
        "b = np.array([[5,6],[7,8]])\n",
        "print(np.add(a,b))\n",
        "print(np.subtract(a,b))\n",
        "print(np.divide(a,b))"
      ],
      "execution_count": null,
      "outputs": [
        {
          "output_type": "stream",
          "text": [
            "[[ 6  8]\n",
            " [10 12]]\n",
            "[[-4 -4]\n",
            " [-4 -4]]\n",
            "[[0.2        0.33333333]\n",
            " [0.42857143 0.5       ]]\n"
          ],
          "name": "stdout"
        }
      ]
    }
  ]
}